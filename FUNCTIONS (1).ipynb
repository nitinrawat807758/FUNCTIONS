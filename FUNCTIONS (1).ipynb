{
  "nbformat": 4,
  "nbformat_minor": 0,
  "metadata": {
    "colab": {
      "provenance": [],
      "collapsed_sections": [
        "WB16JJ5bibyV"
      ]
    },
    "kernelspec": {
      "name": "python3",
      "display_name": "Python 3"
    },
    "language_info": {
      "name": "python"
    }
  },
  "cells": [
    {
      "cell_type": "markdown",
      "source": [
        "#FUNCTIONS"
      ],
      "metadata": {
        "id": "mkpvAFxxiSWf"
      }
    },
    {
      "cell_type": "markdown",
      "source": [
        "**1. What is the difference between a function and a method in Python?**\n",
        "* Functions are independent blocks of code that can be called from anywhere, whereas methods\n",
        "are tied to objects or classes and need an object or class instance to be invoked. Example\n",
        "of Function: # Defining a function def add_num(a,b): return a+b # Calling a function\n",
        "add_num(3,5) #output:8\n",
        "Example of method:\n",
        "# *Defining a class with method*\n",
        "class calculator:\n",
        "def add(self,a,b):\n",
        "return a+b\n",
        "calc = calculator()\n",
        "result = calc.add(3,5)\n",
        "print(result)\n",
        "* #output*:8\n",
        "\n",
        "**2. Explain the concept of function arguments and parameters in python.**\n",
        "* Function arguments are values that you provide to a function when you call it. These arguments can be used by the function to perform specific tasks. A parameter is the variable\n",
        "defined within the parentheses when we declare a function. Example - # function to find\n",
        "square of a number def square(a): # where ‘a’ is parameter return a**2 square(6) # where\n",
        "6 is an argument * #output* 36\n",
        "\n",
        "**3. What are the different ways to define and call a function in python ?**\n",
        "* The differnt ways to didine and call a function in python are\n",
        "1. Basic function definition and call:- This is the most common way to define and call a function.\n",
        "Example- # Function definition def greets(): print(“Hello”) # Function call greets()\n",
        "* #Output*\n",
        "Hello\n",
        "2. Function with arguments:- Example - #Function call def sum (a,b): return a+b * # Function\n",
        "call*\n",
        "sum(4,6)\n",
        "*#output*\n",
        "10\n",
        "3. Function with variable length arguments:- Variable length arguments refer to the ability\n",
        "of function to accept variable number of parameters. Example- #Function definition defsum1(*args): sum = 0 for i in args: s = s+i return s # Function call sum1(1,4,7) # output\n",
        "12\n",
        "4. Lambda function :- These are small anonymous function defined by using lambda keyword.\n",
        "Example- square_lambda = lambda x: x**2 square_lambda(3) * #output* 9\n",
        "\n",
        "**4.  What is the purpose of the ‘return’ statement in a python function ?**\n",
        "\n",
        "* The purpose of the ‘return’ statement in a python function to give the output of a function\n",
        "by ending the execution of the function call. Example - def func(): calc = 2+3+65 return\n",
        "calc func() # output* 35\n",
        "\n",
        "**5. What are iterators in python and how they differ from iterables ?**\n",
        "* An iterable is an object that can return an iterator (like list, tuple, etc.). An iterator is an object with a next() method that returns elements one at a time.\n",
        "Example:\n",
        "\n",
        "     my_list = [1, 2, 3]  # iterable  \n",
        "     it = iter(my_list)  # iterator  \n",
        "     print(next(it))  # prints 1\n",
        "\n",
        "**6.Explain the concept of generators in Python and how they are defined.**\n",
        "\n",
        " * Generators are functions that yield values one at a time using the yield keyword. They are used to produce a sequence of results lazily.\n",
        "\n",
        "   **Example:**\n",
        "\n",
        "   def countdown(n):  \n",
        "     while n > 0:  \n",
        "        yield n  \n",
        "        n -= 1\n",
        "   for i in countdown(3):  \n",
        "      print(i)\n",
        "\n",
        "**7. What are the advantages of using generators over regular functions?**\n",
        "\n",
        "* They save memory by yielding items one at a time.\n",
        "\n",
        "* They are more efficient for large data streams.\n",
        "\n",
        "* They maintain state between calls.\n",
        "\n",
        "   **Example:**\n",
        "\n",
        "       def gen():  \n",
        "              for i in range(1000000):  \n",
        "              yield i\n",
        "\n",
        "**8. What is a lambda function in Python and when is it typically used?**\n",
        "\n",
        "* A lambda function is an anonymous, one-line function defined using the lambda keyword. It is used when a small function is needed temporarily.\n",
        "Example:\n",
        "\n",
        "  square = lambda x: x * x  \n",
        "  print(square(5))  # prints 25\n",
        "      \n",
        "**9. Explain the purpose and usage of the `map()` function in Python.**\n",
        "    \n",
        "* map() applies a given function to all items in an iterable.\n",
        "Example:\n",
        "\n",
        "  nums = [1, 2, 3]  \n",
        "  squared = list(map(lambda x: x**2, nums))  \n",
        "  print(squared)  # [1, 4, 9]\n",
        "\n",
        "**10. What is the difference between `map()`, `reduce()`, and `filter()` functions in Python?**\n",
        "\n",
        "* map() applies a function to each item.\n",
        "\n",
        "  * filter() selects items where the function returns True.\n",
        "\n",
        "  * reduce() applies a rolling computation (from functools).\n",
        "\n",
        "  **Example:**\n",
        "\n",
        "  from functools import reduce\n",
        "  nums = [1, 2, 3, 4]\n",
        "  mapped = list(map(lambda x: x*2, nums))  # [2, 4, 6, 8]  \n",
        "  filtered = list(filter(lambda x: x % 2 == 0, nums))  # [2, 4]  \n",
        "  reduced = reduce(lambda x, y: x + y, nums)  # 10\n",
        "\n",
        "**11. Using pen & Paper write the internal mechanism for sum operation using  reduce function on this given\n",
        "list:[47,11,42,13];**\n",
        "![WhatsApp Image 2025-06-26 at 9.54.40 PM.jpeg](data:image/jpeg;base64,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)"
      ],
      "metadata": {
        "id": "WB16JJ5bibyV"
      }
    },
    {
      "cell_type": "markdown",
      "source": [
        "#Practical Questions:"
      ],
      "metadata": {
        "id": "wYRrPp0uEp9y"
      }
    },
    {
      "cell_type": "code",
      "source": [
        "#1. Write a python function that takes a list of numbers as input and returns the sum of all even numbers in list.\n",
        "def sum_even_numbers(lst):\n",
        "    return sum(num for num in lst if num % 2 == 0)\n",
        "\n",
        "# Example usage:\n",
        "print(sum_even_numbers([1, 2, 3, 4, 5, 6]))\n"
      ],
      "metadata": {
        "colab": {
          "base_uri": "https://localhost:8080/"
        },
        "id": "Qiblgg0Wzkm7",
        "outputId": "024365de-e345-41b6-e74e-755dd9f650f9"
      },
      "execution_count": 42,
      "outputs": [
        {
          "output_type": "stream",
          "name": "stdout",
          "text": [
            "12\n"
          ]
        }
      ]
    },
    {
      "cell_type": "code",
      "source": [
        "# 2. Create a Python function that accepts a string and returns the reverse of that string.\n",
        "def reverse_string(s):\n",
        "    return s[::-1]\n",
        "\n",
        "# Example usage:\n",
        "print(reverse_string(\"Python\"))\n"
      ],
      "metadata": {
        "id": "hAdmx-FRHDW5",
        "colab": {
          "base_uri": "https://localhost:8080/"
        },
        "outputId": "307e18f2-9fc8-4d68-cc24-113bd20167f3"
      },
      "execution_count": 43,
      "outputs": [
        {
          "output_type": "stream",
          "name": "stdout",
          "text": [
            "nohtyP\n"
          ]
        }
      ]
    },
    {
      "cell_type": "code",
      "source": [
        "# 3.  Implement a Python function that takes a list of integers and returns a new list containing the squares of each number.\n",
        "def square_list(lst):\n",
        "    return [x**2 for x in lst]\n",
        "\n",
        "# Example usage:\n",
        "print(square_list([1, 2, 3, 4]))\n"
      ],
      "metadata": {
        "id": "fTb_gQ3yHsMf",
        "colab": {
          "base_uri": "https://localhost:8080/"
        },
        "outputId": "4475e0d7-eec6-40fd-cfce-432b37d292d8"
      },
      "execution_count": 44,
      "outputs": [
        {
          "output_type": "stream",
          "name": "stdout",
          "text": [
            "[1, 4, 9, 16]\n"
          ]
        }
      ]
    },
    {
      "cell_type": "code",
      "source": [
        "# 4. Write a Python function that checks if a given number is prime or not from 1 to 200.\n",
        "def is_prime(n):\n",
        "    if n < 2:\n",
        "        return False\n",
        "    for i in range(2, int(n**0.5)+1):\n",
        "        if n % i == 0:\n",
        "            return False\n",
        "    return True\n",
        "\n",
        "    # Example usage:\n",
        "primes = [n for n in range(1, 201) if is_prime(n)]\n",
        "print(primes)"
      ],
      "metadata": {
        "id": "yAc7f1SXH6px",
        "colab": {
          "base_uri": "https://localhost:8080/"
        },
        "outputId": "e628c93a-ded9-4b99-db48-418cb24ef9c6"
      },
      "execution_count": 45,
      "outputs": [
        {
          "output_type": "stream",
          "name": "stdout",
          "text": [
            "[2, 3, 5, 7, 11, 13, 17, 19, 23, 29, 31, 37, 41, 43, 47, 53, 59, 61, 67, 71, 73, 79, 83, 89, 97, 101, 103, 107, 109, 113, 127, 131, 137, 139, 149, 151, 157, 163, 167, 173, 179, 181, 191, 193, 197, 199]\n"
          ]
        }
      ]
    },
    {
      "cell_type": "code",
      "source": [
        "# 5. Create an iterator class in Python that generates the Fibonacci sequence up to a specified number of terms.\n",
        "class FibonacciIterator:\n",
        "    def __init__(self, max_terms):\n",
        "        self.max_terms = max_terms\n",
        "        self.a, self.b = 0, 1\n",
        "        self.count = 0\n",
        "\n",
        "    def __iter__(self):\n",
        "        return self\n",
        "\n",
        "    def __next__(self):\n",
        "        if self.count >= self.max_terms:\n",
        "            raise StopIteration\n",
        "        result = self.a\n",
        "        self.a, self.b = self.b, self.a + self.b\n",
        "        self.count += 1\n",
        "        return result\n",
        "\n",
        "# Example usage:\n",
        "fib = FibonacciIterator(10)\n",
        "print(list(fib))\n"
      ],
      "metadata": {
        "id": "u4OLcZciIHdz",
        "colab": {
          "base_uri": "https://localhost:8080/"
        },
        "outputId": "73b515e7-0e2e-4a21-8eae-aff53f6c94e2"
      },
      "execution_count": 46,
      "outputs": [
        {
          "output_type": "stream",
          "name": "stdout",
          "text": [
            "[0, 1, 1, 2, 3, 5, 8, 13, 21, 34]\n"
          ]
        }
      ]
    },
    {
      "cell_type": "code",
      "source": [
        "#6. Write a generator function in Python that yields the powers of 2 up to a given exponent.\n",
        "\n",
        "def powers_of_two(max_exp):\n",
        "    for i in range(max_exp + 1):\n",
        "        yield 2 ** i\n",
        "\n",
        "# Example usage:\n",
        "print(list(powers_of_two(5)))\n"
      ],
      "metadata": {
        "colab": {
          "base_uri": "https://localhost:8080/"
        },
        "id": "OLmrsyY8H6jp",
        "outputId": "bb06635e-2b1a-4b2b-e9ba-fba76a84490f"
      },
      "execution_count": 19,
      "outputs": [
        {
          "output_type": "stream",
          "name": "stdout",
          "text": [
            "[1, 2, 4, 8, 16, 32]\n"
          ]
        }
      ]
    },
    {
      "cell_type": "code",
      "source": [
        "#7.  Implement a generator function that reads a file line by line and yields each line as a string.\n",
        "def read_file_lines(file_path):\n",
        "    with open(file_path, 'r') as file:\n",
        "        for line in file:\n",
        "            yield line  # Each line is yielded as a string (includes newline by default)"
      ],
      "metadata": {
        "id": "0e_UnNBBIiNt"
      },
      "execution_count": 68,
      "outputs": []
    },
    {
      "cell_type": "code",
      "source": [
        "#8.  Use a lambda function in Python to sort a list of tuples based on the second element of each tuple.\n",
        "\n",
        "data = [(1, 3), (4, 1), (2, 5), (9, 0)]\n",
        "sorted_data = sorted(data, key=lambda x: x[1])\n",
        "print(sorted_data)\n"
      ],
      "metadata": {
        "colab": {
          "base_uri": "https://localhost:8080/"
        },
        "id": "FD6JIsR1IusO",
        "outputId": "8ee42b97-0a02-4e57-d880-c8585bb6e210"
      },
      "execution_count": 21,
      "outputs": [
        {
          "output_type": "stream",
          "name": "stdout",
          "text": [
            "[(9, 0), (4, 1), (1, 3), (2, 5)]\n"
          ]
        }
      ]
    },
    {
      "cell_type": "code",
      "source": [
        "#9.Write a Python program that uses `map()` to convert a list of temperatures from Celsius to Fahrenheit.\n",
        "\n",
        "def celsius_to_fahrenheit(c):\n",
        "    return (c * 9/5) + 32\n",
        "\n",
        "celsius_list = [0, 20, 37, 100]\n",
        "fahrenheit_list = list(map(celsius_to_fahrenheit, celsius_list))\n",
        "\n",
        "print(fahrenheit_list)\n"
      ],
      "metadata": {
        "colab": {
          "base_uri": "https://localhost:8080/"
        },
        "id": "DYoa5_ptI6jv",
        "outputId": "e576d3c1-8dd0-4900-9b05-ee2423e88b06"
      },
      "execution_count": 22,
      "outputs": [
        {
          "output_type": "stream",
          "name": "stdout",
          "text": [
            "[32.0, 68.0, 98.6, 212.0]\n"
          ]
        }
      ]
    },
    {
      "cell_type": "code",
      "source": [
        "#10.Create a Python program that uses `filter()` to remove all the vowels from a given string.\n",
        "\n",
        "def remove_vowels(input_str):\n",
        "    vowels = 'aeiouAEIOU'\n",
        "    return ''.join(filter(lambda char: char not in vowels, input_str))\n",
        "\n",
        "# Example usage\n",
        "text = \"This is a sample sentence.\"\n",
        "result = remove_vowels(text)\n",
        "print(result)"
      ],
      "metadata": {
        "colab": {
          "base_uri": "https://localhost:8080/"
        },
        "id": "EsPtEMM5IVmf",
        "outputId": "9f9e8521-230b-4b86-a9a8-f0456597c3ea"
      },
      "execution_count": 23,
      "outputs": [
        {
          "output_type": "stream",
          "name": "stdout",
          "text": [
            "Ths s  smpl sntnc.\n"
          ]
        }
      ]
    },
    {
      "cell_type": "code",
      "source": [
        "# 11. Imagine an accounting routine used in a book shop. It works on a list with sublists like this:\n",
        "orders = [\n",
        "    ['34587', 'Learning Python', 4, 40.95],\n",
        "    ['98762', 'Programming Python', 5, 56.80],\n",
        "    ['77226', 'Head First Python', 3, 32.95],\n",
        "    ['88112', 'Einführung in Python3', 3, 24.99]\n",
        "]\n",
        "\n",
        "# Write a Python program using lambda and map to return a list with 2-tuples.\n",
        "# Each tuple = (order number, total price), add €10 if total < €100.\n",
        "order_totals = list(map(\n",
        "    lambda order: (order[0], round(order[2]*order[3] + (10 if order[2]*order[3] < 100 else 0), 2)),\n",
        "    orders\n",
        "))\n",
        "\n",
        "print(order_totals)"
      ],
      "metadata": {
        "colab": {
          "base_uri": "https://localhost:8080/"
        },
        "id": "KpOyhO_55F-i",
        "outputId": "26353123-56b4-4c3f-839d-fbe6103b9165"
      },
      "execution_count": 69,
      "outputs": [
        {
          "output_type": "stream",
          "name": "stdout",
          "text": [
            "[('34587', 163.8), ('98762', 284.0), ('77226', 108.85), ('88112', 84.97)]\n"
          ]
        }
      ]
    }
  ]
}